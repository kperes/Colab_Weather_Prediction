{
  "nbformat": 4,
  "nbformat_minor": 0,
  "metadata": {
    "colab": {
      "provenance": [],
      "authorship_tag": "ABX9TyMdYrn6EncSO56j5eQ39FXV",
      "include_colab_link": true
    },
    "kernelspec": {
      "name": "python3",
      "display_name": "Python 3"
    },
    "language_info": {
      "name": "python"
    }
  },
  "cells": [
    {
      "cell_type": "markdown",
      "metadata": {
        "id": "view-in-github",
        "colab_type": "text"
      },
      "source": [
        "<a href=\"https://colab.research.google.com/github/kperes/Colab_Weather_Prediction/blob/main/Weather_Prediction_XGBoost.ipynb\" target=\"_parent\"><img src=\"https://colab.research.google.com/assets/colab-badge.svg\" alt=\"Open In Colab\"/></a>"
      ]
    },
    {
      "cell_type": "code",
      "execution_count": 1,
      "metadata": {
        "id": "xjm5aMvMdAdo"
      },
      "outputs": [],
      "source": [
        "import pandas as pd\n",
        "data=pd.read_csv(\"https://raw.githubusercontent.com/kperes/Colab_Weather_Prediction/main/seattle-weather.csv\")"
      ]
    },
    {
      "cell_type": "code",
      "source": [
        "data.shape"
      ],
      "metadata": {
        "colab": {
          "base_uri": "https://localhost:8080/"
        },
        "id": "MK9OESebdNg8",
        "outputId": "e0282bd7-c3cd-4e27-b742-3549f2c76dd2"
      },
      "execution_count": 2,
      "outputs": [
        {
          "output_type": "execute_result",
          "data": {
            "text/plain": [
              "(1461, 6)"
            ]
          },
          "metadata": {},
          "execution_count": 2
        }
      ]
    },
    {
      "cell_type": "code",
      "source": [
        "data.head()"
      ],
      "metadata": {
        "colab": {
          "base_uri": "https://localhost:8080/",
          "height": 206
        },
        "id": "SL7fAbWpdPR-",
        "outputId": "325617f1-271f-4882-fd6d-9c44813c9ba5"
      },
      "execution_count": 3,
      "outputs": [
        {
          "output_type": "execute_result",
          "data": {
            "text/plain": [
              "         date  precipitation  temp_max  temp_min  wind  weather\n",
              "0  2012-01-01            0.0      12.8       5.0   4.7  drizzle\n",
              "1  2012-01-02           10.9      10.6       2.8   4.5     rain\n",
              "2  2012-01-03            0.8      11.7       7.2   2.3     rain\n",
              "3  2012-01-04           20.3      12.2       5.6   4.7     rain\n",
              "4  2012-01-05            1.3       8.9       2.8   6.1     rain"
            ],
            "text/html": [
              "\n",
              "  <div id=\"df-82b1f4ad-91b4-4c82-8eac-fa970be5bd1a\">\n",
              "    <div class=\"colab-df-container\">\n",
              "      <div>\n",
              "<style scoped>\n",
              "    .dataframe tbody tr th:only-of-type {\n",
              "        vertical-align: middle;\n",
              "    }\n",
              "\n",
              "    .dataframe tbody tr th {\n",
              "        vertical-align: top;\n",
              "    }\n",
              "\n",
              "    .dataframe thead th {\n",
              "        text-align: right;\n",
              "    }\n",
              "</style>\n",
              "<table border=\"1\" class=\"dataframe\">\n",
              "  <thead>\n",
              "    <tr style=\"text-align: right;\">\n",
              "      <th></th>\n",
              "      <th>date</th>\n",
              "      <th>precipitation</th>\n",
              "      <th>temp_max</th>\n",
              "      <th>temp_min</th>\n",
              "      <th>wind</th>\n",
              "      <th>weather</th>\n",
              "    </tr>\n",
              "  </thead>\n",
              "  <tbody>\n",
              "    <tr>\n",
              "      <th>0</th>\n",
              "      <td>2012-01-01</td>\n",
              "      <td>0.0</td>\n",
              "      <td>12.8</td>\n",
              "      <td>5.0</td>\n",
              "      <td>4.7</td>\n",
              "      <td>drizzle</td>\n",
              "    </tr>\n",
              "    <tr>\n",
              "      <th>1</th>\n",
              "      <td>2012-01-02</td>\n",
              "      <td>10.9</td>\n",
              "      <td>10.6</td>\n",
              "      <td>2.8</td>\n",
              "      <td>4.5</td>\n",
              "      <td>rain</td>\n",
              "    </tr>\n",
              "    <tr>\n",
              "      <th>2</th>\n",
              "      <td>2012-01-03</td>\n",
              "      <td>0.8</td>\n",
              "      <td>11.7</td>\n",
              "      <td>7.2</td>\n",
              "      <td>2.3</td>\n",
              "      <td>rain</td>\n",
              "    </tr>\n",
              "    <tr>\n",
              "      <th>3</th>\n",
              "      <td>2012-01-04</td>\n",
              "      <td>20.3</td>\n",
              "      <td>12.2</td>\n",
              "      <td>5.6</td>\n",
              "      <td>4.7</td>\n",
              "      <td>rain</td>\n",
              "    </tr>\n",
              "    <tr>\n",
              "      <th>4</th>\n",
              "      <td>2012-01-05</td>\n",
              "      <td>1.3</td>\n",
              "      <td>8.9</td>\n",
              "      <td>2.8</td>\n",
              "      <td>6.1</td>\n",
              "      <td>rain</td>\n",
              "    </tr>\n",
              "  </tbody>\n",
              "</table>\n",
              "</div>\n",
              "      <button class=\"colab-df-convert\" onclick=\"convertToInteractive('df-82b1f4ad-91b4-4c82-8eac-fa970be5bd1a')\"\n",
              "              title=\"Convert this dataframe to an interactive table.\"\n",
              "              style=\"display:none;\">\n",
              "        \n",
              "  <svg xmlns=\"http://www.w3.org/2000/svg\" height=\"24px\"viewBox=\"0 0 24 24\"\n",
              "       width=\"24px\">\n",
              "    <path d=\"M0 0h24v24H0V0z\" fill=\"none\"/>\n",
              "    <path d=\"M18.56 5.44l.94 2.06.94-2.06 2.06-.94-2.06-.94-.94-2.06-.94 2.06-2.06.94zm-11 1L8.5 8.5l.94-2.06 2.06-.94-2.06-.94L8.5 2.5l-.94 2.06-2.06.94zm10 10l.94 2.06.94-2.06 2.06-.94-2.06-.94-.94-2.06-.94 2.06-2.06.94z\"/><path d=\"M17.41 7.96l-1.37-1.37c-.4-.4-.92-.59-1.43-.59-.52 0-1.04.2-1.43.59L10.3 9.45l-7.72 7.72c-.78.78-.78 2.05 0 2.83L4 21.41c.39.39.9.59 1.41.59.51 0 1.02-.2 1.41-.59l7.78-7.78 2.81-2.81c.8-.78.8-2.07 0-2.86zM5.41 20L4 18.59l7.72-7.72 1.47 1.35L5.41 20z\"/>\n",
              "  </svg>\n",
              "      </button>\n",
              "      \n",
              "  <style>\n",
              "    .colab-df-container {\n",
              "      display:flex;\n",
              "      flex-wrap:wrap;\n",
              "      gap: 12px;\n",
              "    }\n",
              "\n",
              "    .colab-df-convert {\n",
              "      background-color: #E8F0FE;\n",
              "      border: none;\n",
              "      border-radius: 50%;\n",
              "      cursor: pointer;\n",
              "      display: none;\n",
              "      fill: #1967D2;\n",
              "      height: 32px;\n",
              "      padding: 0 0 0 0;\n",
              "      width: 32px;\n",
              "    }\n",
              "\n",
              "    .colab-df-convert:hover {\n",
              "      background-color: #E2EBFA;\n",
              "      box-shadow: 0px 1px 2px rgba(60, 64, 67, 0.3), 0px 1px 3px 1px rgba(60, 64, 67, 0.15);\n",
              "      fill: #174EA6;\n",
              "    }\n",
              "\n",
              "    [theme=dark] .colab-df-convert {\n",
              "      background-color: #3B4455;\n",
              "      fill: #D2E3FC;\n",
              "    }\n",
              "\n",
              "    [theme=dark] .colab-df-convert:hover {\n",
              "      background-color: #434B5C;\n",
              "      box-shadow: 0px 1px 3px 1px rgba(0, 0, 0, 0.15);\n",
              "      filter: drop-shadow(0px 1px 2px rgba(0, 0, 0, 0.3));\n",
              "      fill: #FFFFFF;\n",
              "    }\n",
              "  </style>\n",
              "\n",
              "      <script>\n",
              "        const buttonEl =\n",
              "          document.querySelector('#df-82b1f4ad-91b4-4c82-8eac-fa970be5bd1a button.colab-df-convert');\n",
              "        buttonEl.style.display =\n",
              "          google.colab.kernel.accessAllowed ? 'block' : 'none';\n",
              "\n",
              "        async function convertToInteractive(key) {\n",
              "          const element = document.querySelector('#df-82b1f4ad-91b4-4c82-8eac-fa970be5bd1a');\n",
              "          const dataTable =\n",
              "            await google.colab.kernel.invokeFunction('convertToInteractive',\n",
              "                                                     [key], {});\n",
              "          if (!dataTable) return;\n",
              "\n",
              "          const docLinkHtml = 'Like what you see? Visit the ' +\n",
              "            '<a target=\"_blank\" href=https://colab.research.google.com/notebooks/data_table.ipynb>data table notebook</a>'\n",
              "            + ' to learn more about interactive tables.';\n",
              "          element.innerHTML = '';\n",
              "          dataTable['output_type'] = 'display_data';\n",
              "          await google.colab.output.renderOutput(dataTable, element);\n",
              "          const docLink = document.createElement('div');\n",
              "          docLink.innerHTML = docLinkHtml;\n",
              "          element.appendChild(docLink);\n",
              "        }\n",
              "      </script>\n",
              "    </div>\n",
              "  </div>\n",
              "  "
            ]
          },
          "metadata": {},
          "execution_count": 3
        }
      ]
    },
    {
      "cell_type": "code",
      "source": [
        "import warnings\n",
        "import seaborn as sns\n",
        "warnings.filterwarnings('ignore')\n",
        "sns.countplot(\"weather\",data=data,palette=\"hls\")"
      ],
      "metadata": {
        "colab": {
          "base_uri": "https://localhost:8080/",
          "height": 297
        },
        "id": "C5LCok-edcs6",
        "outputId": "eef5e795-c5fd-4888-fbe9-d3ff020b749f"
      },
      "execution_count": 4,
      "outputs": [
        {
          "output_type": "execute_result",
          "data": {
            "text/plain": [
              "<matplotlib.axes._subplots.AxesSubplot at 0x7f038bdd1a90>"
            ]
          },
          "metadata": {},
          "execution_count": 4
        },
        {
          "output_type": "display_data",
          "data": {
            "text/plain": [
              "<Figure size 432x288 with 1 Axes>"
            ],
            "image/png": "[encoded data removed]"
          },
          "metadata": {
            "needs_background": "light"
          }
        }
      ]
    },
    {
      "cell_type": "code",
      "source": [
        "import matplotlib.pyplot as plt\n",
        "sns.set(style=\"darkgrid\")\n",
        "fig,axs=plt.subplots(2,2,figsize=(10,8))\n",
        "sns.histplot(data=data,x=\"precipitation\",kde=True,ax=axs[0,0],color='green')\n",
        "sns.histplot(data=data,x=\"temp_max\",kde=True,ax=axs[0,1],color='red')\n",
        "sns.histplot(data=data,x=\"temp_min\",kde=True,ax=axs[1,0],color='skyblue')\n",
        "sns.histplot(data=data,x=\"wind\",kde=True,ax=axs[1,1],color='orange')"
      ],
      "metadata": {
        "colab": {
          "base_uri": "https://localhost:8080/",
          "height": 523
        },
        "id": "j8r5YukTd4IN",
        "outputId": "6fc7b7af-8ddf-4ef3-a056-0eac2e09580b"
      },
      "execution_count": 5,
      "outputs": [
        {
          "output_type": "execute_result",
          "data": {
            "text/plain": [
              "<matplotlib.axes._subplots.AxesSubplot at 0x7f038af3f190>"
            ]
          },
          "metadata": {},
          "execution_count": 5
        },
        {
          "output_type": "display_data",
          "data": {
            "text/plain": [
              "<Figure size 720x576 with 4 Axes>"
            ],
            "image/png": "[encoded data removed]"
          },
          "metadata": {}
        }
      ]
    },
    {
      "cell_type": "code",
      "source": [
        "data.isna().sum()"
      ],
      "metadata": {
        "colab": {
          "base_uri": "https://localhost:8080/"
        },
        "id": "_AzUcwuQihbw",
        "outputId": "2c6013b7-515d-4162-8d4b-2dc229611f3e"
      },
      "execution_count": 6,
      "outputs": [
        {
          "output_type": "execute_result",
          "data": {
            "text/plain": [
              "date             0\n",
              "precipitation    0\n",
              "temp_max         0\n",
              "temp_min         0\n",
              "wind             0\n",
              "weather          0\n",
              "dtype: int64"
            ]
          },
          "metadata": {},
          "execution_count": 6
        }
      ]
    },
    {
      "cell_type": "code",
      "source": [
        "df=data.drop([\"date\"],axis=1)"
      ],
      "metadata": {
        "id": "fcoK6n82exGZ"
      },
      "execution_count": 7,
      "outputs": []
    },
    {
      "cell_type": "code",
      "source": [
        "Q1=df.quantile(0.25)\n",
        "Q3=df.quantile(0.75)\n",
        "IQR=Q3-Q1\n",
        "df=df[~((df<(Q1-1.5*IQR))|(df>(Q3+1.5*IQR))).any(axis=1)]"
      ],
      "metadata": {
        "id": "1lH2V2C1ezOt"
      },
      "execution_count": 8,
      "outputs": []
    },
    {
      "cell_type": "code",
      "source": [
        "import numpy as np\n",
        "df.precipitation=np.sqrt(df.precipitation)\n",
        "df.wind=np.sqrt(df.wind)"
      ],
      "metadata": {
        "id": "1Jr1DIm4e2zd"
      },
      "execution_count": 10,
      "outputs": []
    },
    {
      "cell_type": "code",
      "source": [
        "sns.set(style=\"darkgrid\")\n",
        "fig,axs=plt.subplots(2,2,figsize=(10,8))\n",
        "sns.histplot(data=df,x=\"precipitation\",kde=True,ax=axs[0,0],color='green')\n",
        "sns.histplot(data=df,x=\"temp_max\",kde=True,ax=axs[0,1],color='red')\n",
        "sns.histplot(data=df,x=\"temp_min\",kde=True,ax=axs[1,0],color='skyblue')\n",
        "sns.histplot(data=df,x=\"wind\",kde=True,ax=axs[1,1],color='orange')"
      ],
      "metadata": {
        "colab": {
          "base_uri": "https://localhost:8080/",
          "height": 523
        },
        "id": "0AAZCkqGe3bi",
        "outputId": "79b177dd-624d-4690-acec-179527007012"
      },
      "execution_count": 11,
      "outputs": [
        {
          "output_type": "execute_result",
          "data": {
            "text/plain": [
              "<matplotlib.axes._subplots.AxesSubplot at 0x7f038aa5c4d0>"
            ]
          },
          "metadata": {},
          "execution_count": 11
        },
        {
          "output_type": "display_data",
          "data": {
            "text/plain": [
              "<Figure size 720x576 with 4 Axes>"
            ],
            "image/png": "[encoded data removed]"
          },
          "metadata": {}
        }
      ]
    },
    {
      "cell_type": "code",
      "source": [
        "from sklearn.preprocessing import LabelEncoder\n",
        "lc=LabelEncoder()\n",
        "df[\"weather\"]=lc.fit_transform(df[\"weather\"])"
      ],
      "metadata": {
        "id": "4R2igJ6Ee-Ne"
      },
      "execution_count": 12,
      "outputs": []
    },
    {
      "cell_type": "code",
      "source": [
        "x=((df.loc[:,df.columns!=\"weather\"]).astype(int)).values[:,0:]\n",
        "y=df[\"weather\"].values"
      ],
      "metadata": {
        "id": "JId_5ltWfKPb"
      },
      "execution_count": 13,
      "outputs": []
    },
    {
      "cell_type": "code",
      "source": [
        "df.weather.unique()"
      ],
      "metadata": {
        "colab": {
          "base_uri": "https://localhost:8080/"
        },
        "id": "oggVMyEefNBk",
        "outputId": "b5efa680-b31d-4bd1-e9d3-9a1e5af1b94e"
      },
      "execution_count": 14,
      "outputs": [
        {
          "output_type": "execute_result",
          "data": {
            "text/plain": [
              "array([0, 2, 4, 3, 1])"
            ]
          },
          "metadata": {},
          "execution_count": 14
        }
      ]
    },
    {
      "cell_type": "markdown",
      "source": [
        "**TREINAMENTO DE ALGORITMOS E MODELO**"
      ],
      "metadata": {
        "id": "rbfO6OT4fg4C"
      }
    },
    {
      "cell_type": "code",
      "source": [
        "from sklearn.model_selection import train_test_split\n",
        "x_train, x_test, y_train, y_test=train_test_split(x, y, test_size=0.1, random_state=2)"
      ],
      "metadata": {
        "id": "j-uf2AQ4fQHs"
      },
      "execution_count": 15,
      "outputs": []
    },
    {
      "cell_type": "code",
      "source": [
        "from sklearn.metrics import accuracy_score,confusion_matrix,classification_report,plot_confusion_matrix"
      ],
      "metadata": {
        "id": "p3WHJYuWhstl"
      },
      "execution_count": 16,
      "outputs": []
    },
    {
      "cell_type": "markdown",
      "source": [
        "**K-NEAREST NEIGHBOR CLASSIFIER (KNN):**"
      ],
      "metadata": {
        "id": "Lidc5qfmflU1"
      }
    },
    {
      "cell_type": "code",
      "source": [
        "from sklearn.neighbors import KNeighborsClassifier\n",
        "knn=KNeighborsClassifier()\n",
        "knn.fit(x_train,y_train)\n",
        "y_pred_knn = knn.predict(x_test)\n",
        "confusion_matrix(y_test, y_pred_knn)\n",
        "print(classification_report(y_test, y_pred_knn))"
      ],
      "metadata": {
        "colab": {
          "base_uri": "https://localhost:8080/"
        },
        "id": "ryp_De54fgEg",
        "outputId": "c59f763e-92d1-444d-aec3-d83235d2bb05"
      },
      "execution_count": 17,
      "outputs": [
        {
          "output_type": "stream",
          "name": "stdout",
          "text": [
            "              precision    recall  f1-score   support\n",
            "\n",
            "           0       0.00      0.00      0.00         1\n",
            "           1       0.29      0.18      0.22        11\n",
            "           2       0.70      0.79      0.74        33\n",
            "           3       1.00      0.33      0.50         3\n",
            "           4       0.83      0.84      0.84        76\n",
            "\n",
            "    accuracy                           0.75       124\n",
            "   macro avg       0.56      0.43      0.46       124\n",
            "weighted avg       0.75      0.75      0.74       124\n",
            "\n"
          ]
        }
      ]
    },
    {
      "cell_type": "markdown",
      "source": [
        "**SUPPORT VECTOR MACHINE (SVM):**"
      ],
      "metadata": {
        "id": "5_KFsgOkfscG"
      }
    },
    {
      "cell_type": "code",
      "source": [
        "from sklearn.svm import SVC\n",
        "svm=SVC()\n",
        "svm.fit(x_train,y_train)\n",
        "y_pred_svm = svm.predict(x_test)\n",
        "confusion_matrix(y_test, y_pred_svm)\n",
        "print(classification_report(y_test, y_pred_svm))"
      ],
      "metadata": {
        "colab": {
          "base_uri": "https://localhost:8080/"
        },
        "id": "lBsUS6WNgAWi",
        "outputId": "3b3dac0f-414f-4109-8739-de5eb3583649"
      },
      "execution_count": 18,
      "outputs": [
        {
          "output_type": "stream",
          "name": "stdout",
          "text": [
            "              precision    recall  f1-score   support\n",
            "\n",
            "           0       0.00      0.00      0.00         1\n",
            "           1       0.00      0.00      0.00        11\n",
            "           2       0.71      0.76      0.74        33\n",
            "           3       0.00      0.00      0.00         3\n",
            "           4       0.80      0.93      0.86        76\n",
            "\n",
            "    accuracy                           0.77       124\n",
            "   macro avg       0.30      0.34      0.32       124\n",
            "weighted avg       0.68      0.77      0.72       124\n",
            "\n"
          ]
        }
      ]
    },
    {
      "cell_type": "markdown",
      "source": [
        "**GRADIENT BOOSTING MACHINE (GBM):**"
      ],
      "metadata": {
        "id": "sF3AF6NIgy6X"
      }
    },
    {
      "cell_type": "code",
      "source": [
        "from sklearn.ensemble import GradientBoostingClassifier as GBM\n",
        "gbc=GBM(subsample=0.5, n_estimators=450, max_depth=5, max_leaf_nodes=25)\n",
        "gbc.fit(x_train,y_train)\n",
        "y_pred_gbc = gbc.predict(x_test)\n",
        "confusion_matrix(y_test, y_pred_gbc)\n",
        "print(classification_report(y_test, y_pred_gbc))"
      ],
      "metadata": {
        "colab": {
          "base_uri": "https://localhost:8080/"
        },
        "id": "_AiEZC2Cgfqq",
        "outputId": "3155125e-51c4-4545-8ea8-8d7e87363826"
      },
      "execution_count": 19,
      "outputs": [
        {
          "output_type": "stream",
          "name": "stdout",
          "text": [
            "              precision    recall  f1-score   support\n",
            "\n",
            "           0       0.00      0.00      0.00         1\n",
            "           1       0.67      0.36      0.47        11\n",
            "           2       0.88      0.85      0.86        33\n",
            "           3       0.67      0.67      0.67         3\n",
            "           4       0.84      0.91      0.87        76\n",
            "\n",
            "    accuracy                           0.83       124\n",
            "   macro avg       0.61      0.56      0.57       124\n",
            "weighted avg       0.82      0.83      0.82       124\n",
            "\n"
          ]
        }
      ]
    },
    {
      "cell_type": "markdown",
      "source": [
        "**EXTREME GRADIENT BOOSTING (XGB):**"
      ],
      "metadata": {
        "id": "IKb6vgy7gt4x"
      }
    },
    {
      "cell_type": "code",
      "source": [
        "import xgboost as xgb\n",
        "from xgboost import XGBClassifier as XGB\n",
        "xgb = XGB(booster='gbtree', objective='multi:softprob', max_depth=6, learning_rate=0.1, n_estimators=200, random_state=2, n_jobs=-1, subsample = 1) \n",
        "xgb.fit(x_train,y_train)\n",
        "y_pred_xgb = xgb.predict(x_test)\n",
        "confusion_matrix(y_test, y_pred_xgb)\n",
        "print(classification_report(y_test, y_pred_xgb))"
      ],
      "metadata": {
        "colab": {
          "base_uri": "https://localhost:8080/"
        },
        "id": "Bb4cECOYgjNK",
        "outputId": "2fc94933-e1b1-4dfc-cd63-03068df1d1af"
      },
      "execution_count": 20,
      "outputs": [
        {
          "output_type": "stream",
          "name": "stdout",
          "text": [
            "              precision    recall  f1-score   support\n",
            "\n",
            "           0       0.00      0.00      0.00         1\n",
            "           1       1.00      0.09      0.17        11\n",
            "           2       0.84      0.82      0.83        33\n",
            "           3       0.75      1.00      0.86         3\n",
            "           4       0.84      0.96      0.90        76\n",
            "\n",
            "    accuracy                           0.84       124\n",
            "   macro avg       0.69      0.57      0.55       124\n",
            "weighted avg       0.85      0.84      0.81       124\n",
            "\n"
          ]
        }
      ]
    },
    {
      "cell_type": "code",
      "source": [
        "print(\"KNN Accuracy:{:.2f}%\".format(knn.score(x_test,y_test)*100))\n",
        "print(\"SVM Accuracy:{:.2f}%\".format(svm.score(x_test,y_test)*100))\n",
        "print(\"GBC Accuracy:{:.2f}%\".format(gbc.score(x_test,y_test)*100))\n",
        "print(\"XGB Accuracy:{:.2f}%\".format(xgb.score(x_test,y_test)*100))"
      ],
      "metadata": {
        "colab": {
          "base_uri": "https://localhost:8080/"
        },
        "id": "1FBpvAHWgqdQ",
        "outputId": "49765ad7-22d4-494f-c129-88317468cdd7"
      },
      "execution_count": 21,
      "outputs": [
        {
          "output_type": "stream",
          "name": "stdout",
          "text": [
            "KNN Accuracy:75.00%\n",
            "SVM Accuracy:77.42%\n",
            "GBC Accuracy:83.06%\n",
            "XGB Accuracy:83.87%\n"
          ]
        }
      ]
    }
  ]
}